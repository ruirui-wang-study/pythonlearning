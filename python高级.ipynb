{
 "cells": [
  {
   "cell_type": "markdown",
   "metadata": {},
   "source": [
    "Python高级特性学习\n",
    "1.切片\n",
    "可以用这种方式方便快捷的取出列表中的元素\n",
    "tuple和字符串也可以进行切片操作\n",
    "\n",
    "2.迭代\n",
    "python中使用for...in来迭代\n",
    "可迭代的类型有字符串、list、dict等\n",
    "可用isinstance方法来判断当前值的类型是否可迭代\n"
   ]
  },
  {
   "cell_type": "code",
   "execution_count": 22,
   "metadata": {},
   "outputs": [
    {
     "name": "stdout",
     "output_type": "stream",
     "text": [
      "['哈密瓜', '西瓜', '苹果瓜']\n",
      "['西瓜', '苹果瓜']\n",
      "['冬瓜', '南瓜']\n",
      "['哈密瓜', '西瓜', '苹果瓜', '地瓜', '窝瓜', '冬瓜', '南瓜']\n",
      "['哈密瓜', '苹果瓜', '窝瓜', '南瓜']\n",
      "True\n",
      "ss\n"
     ]
    }
   ],
   "source": [
    "melons=['哈密瓜','西瓜','苹果瓜','地瓜','窝瓜','冬瓜','南瓜']\n",
    "\n",
    "# 从位置0开始取三个元素，0可以省略\n",
    "print(melons[:3])\n",
    "# 从位置1开始取2个元素\n",
    "print(melons[1:3])\n",
    "# 从倒数第二个元素取到最后一个\n",
    "print(melons[-2:])\n",
    "# 所有元素\n",
    "print(melons[::])\n",
    "# 取前8个每两个取一个\n",
    "print(melons[:8:2])\n",
    "\n",
    "from collections.abc import Iterable\n",
    "print(isinstance('abc', Iterable))\n",
    "\n",
    "def trim(s):\n",
    "    l=len(s)\n",
    "    if l==0:\n",
    "        return s\n",
    "    x=0\n",
    "    y=-1\n",
    "    while s[x]==' ':\n",
    "        x=x+1\n",
    "        if x==l:\n",
    "            return ''\n",
    "    while s[y]==' ':\n",
    "        y=y-1\n",
    "    y=y+l+1\n",
    "    s=s[x:y]   \n",
    "    return s\n",
    "\n",
    "print(trim('  ')+'ss')"
   ]
  },
  {
   "cell_type": "code",
   "execution_count": 23,
   "metadata": {},
   "outputs": [
    {
     "name": "stdout",
     "output_type": "stream",
     "text": [
      "(7, 1)\n"
     ]
    }
   ],
   "source": [
    "def findMinAndMax(L):\n",
    "  if len(L)==0:\n",
    "    return (None,None)\n",
    "  max=L[0]\n",
    "  min=L[0]  \n",
    "  for i in L:\n",
    "    if i>max:\n",
    "      max=i\n",
    "    if i<min:\n",
    "      min=i\n",
    "  return (max, min)\n",
    "\n",
    "print(findMinAndMax([7,1]))"
   ]
  },
  {
   "cell_type": "markdown",
   "metadata": {},
   "source": [
    "3.列表生成式\n",
    "用一行代码就可以生成一个列表\n",
    "4.迭代器\n",
    "用iter()方法将可迭代的数据转成迭代器，迭代器可以存储无穷个元素"
   ]
  },
  {
   "cell_type": "code",
   "execution_count": 27,
   "metadata": {},
   "outputs": [
    {
     "name": "stdout",
     "output_type": "stream",
     "text": [
      "[0, 1, 2, 3, 4, 5, 6, 7, 8, 9]\n",
      "[0, 2, 4, 6, 8]\n",
      "['1=a', '2=b', '3=c']\n"
     ]
    }
   ],
   "source": [
    "L=[x for x in range(10)]\n",
    "d={'1':'a','2':'b','3':'c'}\n",
    "L1=[x for x in L if x%2==0]\n",
    "L2=[x+'='+y for x,y in d.items()]\n",
    "print(L)\n",
    "print(L1)\n",
    "print(L2)"
   ]
  },
  {
   "cell_type": "markdown",
   "metadata": {},
   "source": [
    "python函数式编程\n",
    "函数式编程：一种抽象程度很高的编程范式，不允许有变量，所以函数的输入和输出都是固定的\n",
    "特点：允许把函数本身作为参数传入另一个函数，还允许返回一个函数\n",
    "\n",
    "1.高阶函数\n",
    "由于函数名也是变量，所以可以将函数名赋值给另一个变量，即变量可以指向函数\n",
    "以函数为参数的函数称为高阶函数\n",
    "* map/reduce\n",
    "  map函数：接受两个参数，一个是函数，一个是Iterable（可迭代的数据），将传入的函数依次作用于序列的每个元素，并把结果作为新的iterator返回\n"
   ]
  },
  {
   "cell_type": "code",
   "execution_count": 30,
   "metadata": {},
   "outputs": [
    {
     "name": "stdout",
     "output_type": "stream",
     "text": [
      "9\n",
      "[1, 1, 0, 3, 7, 7, 10, 9]\n"
     ]
    }
   ],
   "source": [
    "f=abs\n",
    "\n",
    "def distance(a,b,f):\n",
    "    return f(a-b)\n",
    "\n",
    "d=distance(1,10,f)\n",
    "print(d)\n",
    "\n",
    "L=list(map(f,[1,-1,0,-3,7,-7,10,-9]))\n",
    "print(L)"
   ]
  },
  {
   "cell_type": "markdown",
   "metadata": {},
   "source": [
    "* filter"
   ]
  }
 ],
 "metadata": {
  "interpreter": {
   "hash": "4eaf1be304415beee96765ae99c3f893cc8312c7f1196698e6029668e9aeb3e5"
  },
  "kernelspec": {
   "display_name": "Python 3.8.0 32-bit",
   "language": "python",
   "name": "python3"
  },
  "language_info": {
   "codemirror_mode": {
    "name": "ipython",
    "version": 3
   },
   "file_extension": ".py",
   "mimetype": "text/x-python",
   "name": "python",
   "nbconvert_exporter": "python",
   "pygments_lexer": "ipython3",
   "version": "3.8.0"
  },
  "orig_nbformat": 4
 },
 "nbformat": 4,
 "nbformat_minor": 2
}
