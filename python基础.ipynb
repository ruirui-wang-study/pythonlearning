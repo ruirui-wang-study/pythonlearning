{
 "cells": [
  {
   "cell_type": "code",
   "execution_count": 9,
   "metadata": {},
   "outputs": [
    {
     "name": "stdout",
     "output_type": "stream",
     "text": [
      "这是一个python自学记录文档\n"
     ]
    }
   ],
   "source": [
    "print(\"这是一个python自学记录文档\")"
   ]
  },
  {
   "cell_type": "markdown",
   "metadata": {},
   "source": [
    "python基础\n",
    "1.输入和输出"
   ]
  },
  {
   "cell_type": "code",
   "execution_count": null,
   "metadata": {},
   "outputs": [],
   "source": [
    "cname=input('pls input your name:')\n",
    "print(cname)"
   ]
  },
  {
   "cell_type": "markdown",
   "metadata": {},
   "source": [
    "2.基础数据类型\n",
    "* 整数 没有大小限制\n",
    "* 浮点数 1.23x10的9次方可写成1.23e9\n",
    "* 字符串\n",
    "  单引号、双引号都可以\n",
    "  特殊字符如‘或“可加转义字符\\表示\n",
    "  r''表示’‘内部的字符串不转义\n",
    "  '''...'''表示多行内容\n",
    "* 布尔型\n",
    "  可用and、or、not运算\n",
    "* 空值 None"
   ]
  },
  {
   "cell_type": "code",
   "execution_count": 21,
   "metadata": {},
   "outputs": [
    {
     "name": "stdout",
     "output_type": "stream",
     "text": [
      "123000000.0\n",
      "1230000000.0\n",
      "I'm OK\n",
      "I'm OK\n",
      "I\\'m OK\n",
      "this\n",
      "is\n",
      "a\n",
      "trial\n",
      "False\n",
      "True\n",
      "True\n"
     ]
    }
   ],
   "source": [
    "a=1.23*100000000\n",
    "b=1.23e9\n",
    "print(a)\n",
    "print(b)\n",
    "\n",
    "str=\"I'm OK\"\n",
    "str1='I\\'m OK'\n",
    "print(str)\n",
    "print(str1)\n",
    "print(r'I\\'m OK')\n",
    "\n",
    "print('''this\n",
    "is\n",
    "a\n",
    "trial''')\n",
    "\n",
    "p=True and False\n",
    "q=True or False\n",
    "print(p)\n",
    "print(not p)\n",
    "print(q)"
   ]
  },
  {
   "cell_type": "markdown",
   "metadata": {},
   "source": [
    "3.变量\n",
    "变量必须是大小写英文、数字和_的组合，且不能用数字开头\n",
    "变量类型可以改变，这种语言称为动态语言，相反，像java这种变量类型在定义时就被固定的称为静态语言\n",
    "\n",
    "几种除法：\n",
    "/:精确除，结果是浮点数\n",
    "//：地板除，结果取整数部分\n",
    "%：取余"
   ]
  },
  {
   "cell_type": "markdown",
   "metadata": {},
   "source": [
    "4.字符编码\n",
    "目前有三种常用编码方式：ASCII、Unicode、UTF-8\n",
    "* ASCII只包含英文字符和一些特殊字符，每个编码占1个字节\n",
    "* Unicode是国际统一字符编码，每个编码占2个字节\n",
    "* UTF-8比较灵活，对不同的字符采取不同长度的编码，比如英文字符占1个字节，汉字占3个字节\n",
    "计算机内存使用Unicode编码，文本文件等在硬盘中存储或需要传输的使用UTF-8编码\n",
    "\n",
    "python中的字符串是str类型的，要想存到内存中需要转换成bytes，可以在字符串前加个b或使用encode函数\n",
    "反之，如果从网络中读取了字节流，可以用decode函数将其转换成str字符串"
   ]
  },
  {
   "cell_type": "code",
   "execution_count": 1,
   "metadata": {},
   "outputs": [
    {
     "data": {
      "text/plain": [
       "b'ABC'"
      ]
     },
     "execution_count": 1,
     "metadata": {},
     "output_type": "execute_result"
    }
   ],
   "source": [
    "x=b'ABC'\n",
    "'ABC'.encode('ascii')\n",
    "'ABC'.encode('utf-8')"
   ]
  },
  {
   "cell_type": "markdown",
   "metadata": {},
   "source": [
    "要计算str包含多少字符，可用len函数\n",
    "要计算str包含多少字节，可先将str转化成bytes类型再用len函数"
   ]
  },
  {
   "cell_type": "code",
   "execution_count": 2,
   "metadata": {},
   "outputs": [
    {
     "name": "stdout",
     "output_type": "stream",
     "text": [
      "7\n"
     ]
    }
   ],
   "source": [
    "str='afhduks'\n",
    "print(len(str))"
   ]
  },
  {
   "cell_type": "markdown",
   "metadata": {},
   "source": [
    "格式化输出\n",
    "1.使用%进行数据替换\n",
    "* %s字符串替换\n",
    "* %d整数替换\n",
    "* %f浮点数\n",
    "* %x十六进制整数\n",
    "  \n",
    "2.使用format函数\n",
    "3.在字符串前加一个f，字符串里{xxx}内的内容会自动替换成对应的变量"
   ]
  },
  {
   "cell_type": "code",
   "execution_count": 9,
   "metadata": {},
   "outputs": [
    {
     "name": "stdout",
     "output_type": "stream",
     "text": [
      "My name is Jasmine,\n",
      " I'm 24 years old,\n",
      " I live in Shanghai,\n",
      " I love my country!\n",
      "My name is Jasmine,\n",
      " I'm 24 years old,\n",
      " I live in Shanghai,\n",
      " I love my country!\n"
     ]
    }
   ],
   "source": [
    "print('My name is %s,\\n I\\'m %d years old,\\n I live in %s,\\n I love my country!'%('Jasmine',24,'Shanghai'))\n",
    "\n",
    "print('My name is {0},\\n I\\'m {1} years old,\\n I live in {2},\\n I love my country!'.format('Jasmine',24,'Shanghai'))\n"
   ]
  },
  {
   "cell_type": "markdown",
   "metadata": {},
   "source": [
    "5.列表\n",
    "* list []\n",
    "  有序列表，可随时增删元素\n",
    "* tuple ()\n",
    "  有序列表，不可更改元素"
   ]
  },
  {
   "cell_type": "code",
   "execution_count": 12,
   "metadata": {},
   "outputs": [
    {
     "name": "stdout",
     "output_type": "stream",
     "text": [
      "3\n",
      "邓紫棋\n",
      "周杰伦\n",
      "NINEONE\n",
      "李健\n"
     ]
    }
   ],
   "source": [
    "singers=['邓紫棋','林俊杰','周杰伦']\n",
    "print(len(singers))\n",
    "print(singers[0])\n",
    "print(singers[-1])\n",
    "\n",
    "singers.append('NINEONE')\n",
    "print(singers[-1])\n",
    "singers.insert(0,'李健')\n",
    "print(singers[0])\n",
    "singers.pop()"
   ]
  },
  {
   "cell_type": "markdown",
   "metadata": {},
   "source": [
    "6.条件判断\n",
    "if...elif...else\n",
    "if xxx:\n",
    "    ...\n",
    "elif yyy:\n",
    "    ...\n",
    "else:\n",
    "    ...\n",
    "\n",
    "7.循环\n",
    "* for..in循环 用于迭代list或tuple中的元素\n",
    "  格式：\n",
    "  for x in X:\n",
    "    ...\n",
    "* while循环\n",
    "  格式：\n",
    "  while xxx:\n",
    "    ...\n",
    "    ...\n",
    "break:结束循环\n",
    "continue：结束当前循环，直接开始下一次循环"
   ]
  },
  {
   "cell_type": "markdown",
   "metadata": {},
   "source": [
    "8.字典和集合\n",
    "* dict\n",
    "  在其它语言中称为map，使用键-值存储，查找速度快\n",
    "  判断key是否存在有两种方法：\n",
    "  -通过in判断\n",
    "  -使用get()方法\n",
    "\n",
    "  注意：key值是不能改变的，所以不能使用list类型的数据作为key值使用\n",
    "\n",
    "*set\n",
    "无序和无重复元素的集合 "
   ]
  },
  {
   "cell_type": "code",
   "execution_count": 23,
   "metadata": {},
   "outputs": [
    {
     "name": "stdout",
     "output_type": "stream",
     "text": [
      "10\n",
      "N\n",
      "{'a': 10, 'b': 30, 'c': 5}\n",
      "{1, 2, 3, 4, 5}\n",
      "{1, 2, 3, 4, 7}\n",
      "{1, 2, 3, 4, 7, ('a', 'b', 'c')}\n"
     ]
    }
   ],
   "source": [
    "# dict\n",
    "grades={'a':10,'b':30,'c':5}\n",
    "print(grades['a'])\n",
    "\n",
    "if 'd' in grades:\n",
    "    print('Y')\n",
    "else:\n",
    "    print('N')\n",
    "\n",
    "grades.get('d',-1)\n",
    "\n",
    "grades['d']=50\n",
    "grades.get('d',-1)\n",
    "\n",
    "grades.pop('d')\n",
    "grades.get('d',-1)\n",
    "\n",
    "print(grades)\n",
    "\n",
    "# set\n",
    "list=[1,2,3,4,5,5]\n",
    "s=set(list)\n",
    "print(s)\n",
    "\n",
    "s.add(5)\n",
    "s.add(7)\n",
    "s.remove(5)\n",
    "print(s)\n",
    "\n",
    "t=('a','b','c')\n",
    "s.add(t)\n",
    "print(s)\n"
   ]
  },
  {
   "cell_type": "markdown",
   "metadata": {},
   "source": [
    "9.函数\n",
    "* 函数定义\n",
    "  def 函数名（参数）:\n",
    "    函数体\n",
    "    返回值\n",
    "\n",
    "* 函数参数\n",
    "  位置参数：函数定义时括号里的参数\n",
    "  默认参数：函数定义时就给定默认值的参数\n",
    "  可以按照顺序给默认参数赋值，也可以直接用参数名对其进行赋值\n",
    "\n",
    "  注意：默认参数只能用不变值如str、none，list这种可变的数据不能作为默认参数，因为默认参数其实就是一个变量，当函数第一次被定义时变量就指向一个值，每次调用函数如果改变变量的值那这个参数的值也会发生改变，可能就跟函数定义时的默认值不一样了\n",
    "\n",
    "* 可变参数\n",
    "  只有一个参数，但可以传入0个或多个值，只要在参数名前面加*\n",
    "  可以将list前面加*作为可变参数的元素传入\n",
    "\n",
    "* 关键字参数\n",
    "  允许你传入0个或任意个含参数名的参数，这些关键字参数在函数内部自动组装为一个dict\n",
    "  在参数名前加**\n",
    "\n",
    "* 命名关键字参数\n",
    "  在函数内部限值关键字参数传入的值的名字，用来检查是否有特定的关键字\n",
    "  使用方法：在必要的关键字参数前加*,\n",
    "\n",
    "* 参数组合\n",
    "  使用上面提到的参数类型时需要注意：\n",
    "  参数定义的顺序必须是：必选参数、默认参数、可变参数、命名关键字参数和关键字参数\n",
    "  \n",
    "  \n"
   ]
  },
  {
   "cell_type": "code",
   "execution_count": 33,
   "metadata": {},
   "outputs": [
    {
     "name": "stdout",
     "output_type": "stream",
     "text": [
      "不用上学啦,oh yeah~~~~~~~~\n",
      "我吃一个麒麟瓜\n",
      "我吃一个小西瓜\n",
      "我吃一个无籽西瓜\n",
      "我吃一个黄西瓜\n",
      "吃得好饱~~~~\n",
      "我吃一个哈密瓜\n",
      "我吃一个地瓜\n",
      "我吃一个苹果瓜\n",
      "我吃一个窝瓜\n",
      "吃得好饱~~~~\n",
      "jasmine 24 shanghai female\n"
     ]
    }
   ],
   "source": [
    "# x,y位置参数\n",
    "def kaixue(x,y):\n",
    "    if x:\n",
    "        print('开学啦~~~~~~')\n",
    "    elif y:\n",
    "        print('不用上学啦,oh yeah~~~~~~~~')\n",
    "    else:\n",
    "        print('还没开学呢，继续在家玩！！！！！！！！！！！')\n",
    "\n",
    "# x是必选参数，y是默认参数\n",
    "def kaixue(x,y=1):\n",
    "    if x:\n",
    "        print('开学啦~~~~~~')\n",
    "    elif y:\n",
    "        print('不用上学啦,oh yeah~~~~~~~~')\n",
    "    else:\n",
    "        print('还没开学呢，继续在家玩！！！！！！！！！！！')\n",
    "\n",
    "# watermelons是可变参数\n",
    "def chixigua(*watermelons):\n",
    "    for watermelon in watermelons:\n",
    "        print('我吃一个'+watermelon)\n",
    "    print('吃得好饱~~~~')\n",
    "x=0\n",
    "y=1\n",
    "kaixue(x, y)\n",
    "gua=['哈密瓜','地瓜','苹果瓜','窝瓜']\n",
    "chixigua('麒麟瓜','小西瓜','无籽西瓜','黄西瓜')\n",
    "chixigua(*gua)\n",
    "\n",
    "# 关键字参数\n",
    "# def person(name,age,**other):\n",
    "#     print(name,age,other)\n",
    "\n",
    "# 命名关键字参数\n",
    "def person(name,age,*,city,sex):\n",
    "    print(name,age,city,sex)\n",
    "person('jasmine', 24,city='shanghai',sex='female')"
   ]
  }
 ],
 "metadata": {
  "interpreter": {
   "hash": "4eaf1be304415beee96765ae99c3f893cc8312c7f1196698e6029668e9aeb3e5"
  },
  "kernelspec": {
   "display_name": "Python 3.8.0 32-bit",
   "language": "python",
   "name": "python3"
  },
  "language_info": {
   "codemirror_mode": {
    "name": "ipython",
    "version": 3
   },
   "file_extension": ".py",
   "mimetype": "text/x-python",
   "name": "python",
   "nbconvert_exporter": "python",
   "pygments_lexer": "ipython3",
   "version": "3.8.0"
  },
  "orig_nbformat": 4
 },
 "nbformat": 4,
 "nbformat_minor": 2
}
